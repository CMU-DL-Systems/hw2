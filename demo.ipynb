{
 "cells": [
  {
   "cell_type": "code",
   "execution_count": 2,
   "metadata": {},
   "outputs": [
    {
     "data": {
      "text/plain": [
       "array([[[ 0.8307994 ,  1.80585952, -0.10534041],\n",
       "        [ 0.61948665, -0.73957496, -0.42463782],\n",
       "        [ 0.11566237, -1.15869649, -1.06534124]],\n",
       "\n",
       "       [[ 0.7725773 ,  0.7065253 ,  0.08894743],\n",
       "        [-0.27860877, -0.87917348,  1.10874957],\n",
       "        [ 0.32613251, -0.56006265, -0.62518797]],\n",
       "\n",
       "       [[ 0.96638578,  0.69061854,  0.01775273],\n",
       "        [-1.64817091, -0.50041213,  1.68306508],\n",
       "        [-0.09750055, -1.2604164 ,  0.89608958]]])"
      ]
     },
     "execution_count": 2,
     "metadata": {},
     "output_type": "execute_result"
    }
   ],
   "source": [
    "import numpy as np\n",
    "\n",
    "x = np.random.randn(3, 3, 3)\n",
    "x"
   ]
  },
  {
   "cell_type": "code",
   "execution_count": 4,
   "metadata": {},
   "outputs": [
    {
     "data": {
      "text/plain": [
       "()"
      ]
     },
     "execution_count": 4,
     "metadata": {},
     "output_type": "execute_result"
    }
   ],
   "source": [
    "np.max(x).shape"
   ]
  },
  {
   "cell_type": "code",
   "execution_count": 2,
   "metadata": {},
   "outputs": [
    {
     "data": {
      "text/plain": [
       "array([[0, 1, 0],\n",
       "       [1, 1, 1],\n",
       "       [1, 1, 1]])"
      ]
     },
     "execution_count": 2,
     "metadata": {},
     "output_type": "execute_result"
    }
   ],
   "source": [
    "import numpy as np\n",
    "n, p = 1, .5  # number of trials, probability of each trial\n",
    "s = np.random.binomial(n, p, (3, 3))\n",
    "s"
   ]
  },
  {
   "cell_type": "code",
   "execution_count": 8,
   "metadata": {},
   "outputs": [
    {
     "ename": "KeyError",
     "evalue": "'a'",
     "output_type": "error",
     "traceback": [
      "\u001b[0;31m---------------------------------------------------------------------------\u001b[0m",
      "\u001b[0;31mKeyError\u001b[0m                                  Traceback (most recent call last)",
      "Cell \u001b[0;32mIn[8], line 2\u001b[0m\n\u001b[1;32m      1\u001b[0m d \u001b[38;5;241m=\u001b[39m {}\n\u001b[0;32m----> 2\u001b[0m d[\u001b[38;5;124m'\u001b[39m\u001b[38;5;124ma\u001b[39m\u001b[38;5;124m'\u001b[39m]\n",
      "\u001b[0;31mKeyError\u001b[0m: 'a'"
     ]
    }
   ],
   "source": [
    "d = {}\n",
    "d['a']"
   ]
  },
  {
   "cell_type": "code",
   "execution_count": 1,
   "metadata": {},
   "outputs": [
    {
     "name": "stdout",
     "output_type": "stream",
     "text": [
      "42.0\n"
     ]
    }
   ],
   "source": [
    "import numpy as np\n",
    "\n",
    "# Scalar value\n",
    "scalar_value = 42\n",
    "\n",
    "# Example NumPy array with a specific dtype\n",
    "example_array = np.array([1, 2, 3], dtype=np.float64)\n",
    "\n",
    "# Get the dtype of the example array\n",
    "desired_dtype = example_array.dtype\n",
    "\n",
    "# Convert the scalar to the desired dtype\n",
    "converted_scalar = np.array(scalar_value, dtype=desired_dtype)\n",
    "\n",
    "print(converted_scalar)"
   ]
  },
  {
   "cell_type": "code",
   "execution_count": 2,
   "metadata": {},
   "outputs": [
    {
     "data": {
      "text/plain": [
       "dtype('float64')"
      ]
     },
     "execution_count": 2,
     "metadata": {},
     "output_type": "execute_result"
    }
   ],
   "source": [
    "import numpy as np\n",
    "\n",
    "'''Notice: dtype is changed when numpy array is a scalar'''\n",
    "x = np.array(1.2, dtype=np.float32)\n",
    "x = x / 2\n",
    "x.dtype"
   ]
  }
 ],
 "metadata": {
  "kernelspec": {
   "display_name": "base",
   "language": "python",
   "name": "python3"
  },
  "language_info": {
   "codemirror_mode": {
    "name": "ipython",
    "version": 3
   },
   "file_extension": ".py",
   "mimetype": "text/x-python",
   "name": "python",
   "nbconvert_exporter": "python",
   "pygments_lexer": "ipython3",
   "version": "3.11.4"
  }
 },
 "nbformat": 4,
 "nbformat_minor": 2
}
